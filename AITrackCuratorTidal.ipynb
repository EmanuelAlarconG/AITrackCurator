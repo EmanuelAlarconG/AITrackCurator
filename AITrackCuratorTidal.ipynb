{
 "cells": [
  {
   "cell_type": "code",
   "execution_count": 22,
   "metadata": {},
   "outputs": [],
   "source": [
    "import requests\n",
    "import os\n",
    "\n",
    "from dotenv import load_dotenv"
   ]
  },
  {
   "cell_type": "code",
   "execution_count": 23,
   "metadata": {},
   "outputs": [],
   "source": [
    "load_dotenv()\n",
    "\n",
    "client_id = os.getenv('CLIENT_ID')\n",
    "client_secret = os.getenv('CLIENT_SECRET')\n",
    "\n",
    "token_url = \"https://auth.tidal.com/v1/oauth2/token\"\n",
    "\n",
    "response = requests.post(token_url, data={\n",
    "    \"client_id\": client_id,\n",
    "    \"client_secret\": client_secret,\n",
    "    \"grant_type\": \"client_credentials\"\n",
    "})"
   ]
  },
  {
   "cell_type": "code",
   "execution_count": 25,
   "metadata": {},
   "outputs": [
    {
     "name": "stdout",
     "output_type": "stream",
     "text": [
      "Token de acceso obtenido\n"
     ]
    }
   ],
   "source": [
    "if response.status_code == 200:\n",
    "    token_data = response.json()\n",
    "    access_token = token_data['access_token']\n",
    "    print(\"Token de acceso obtenido\")\n",
    "else:\n",
    "    print(\"Error al obtener el token\")"
   ]
  }
 ],
 "metadata": {
  "kernelspec": {
   "display_name": "tracks",
   "language": "python",
   "name": "python3"
  },
  "language_info": {
   "codemirror_mode": {
    "name": "ipython",
    "version": 3
   },
   "file_extension": ".py",
   "mimetype": "text/x-python",
   "name": "python",
   "nbconvert_exporter": "python",
   "pygments_lexer": "ipython3",
   "version": "3.13.0"
  }
 },
 "nbformat": 4,
 "nbformat_minor": 2
}
